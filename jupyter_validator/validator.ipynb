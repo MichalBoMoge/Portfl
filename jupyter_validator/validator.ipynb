{
 "cells": [
  {
   "metadata": {
    "ExecuteTime": {
     "end_time": "2025-10-30T13:49:58.287210Z",
     "start_time": "2025-10-30T13:49:58.280939Z"
    }
   },
   "cell_type": "code",
   "source": [
    "#libraries\n",
    "import pandas as pd\n",
    "import re\n",
    "import openpyxl"
   ],
   "id": "fbc121e30a2defb3",
   "outputs": [],
   "execution_count": 22
  },
  {
   "metadata": {
    "ExecuteTime": {
     "end_time": "2025-10-30T13:49:59.690992Z",
     "start_time": "2025-10-30T13:49:59.661996Z"
    }
   },
   "cell_type": "code",
   "source": [
    "#import excel file\n",
    "try:\n",
    "    df = pd.read_excel(\"input.xlsx\")\n",
    "    display(df)\n",
    "except FileNotFoundError:\n",
    "    print(\"File not found\")"
   ],
   "id": "405582f4e483ed7d",
   "outputs": [
    {
     "data": {
      "text/plain": [
       "    imię    nazwisko              adres kod_pocztowy       miasto  \\\n",
       "0    Jan    Kowalski     ul. Długa 5/10       50-370      Wrocław   \n",
       "1   Anna       Nowak     al. Szybka 12a         1234     Warszawa   \n",
       "2  piotr   Zieliński       ul. Krótka 7       50-377      Wrocław   \n",
       "3  Maria  Wiśniewska  Pl. Grunwaldzki 2       50-384      Wrocław   \n",
       "4    Zły      Rekord           ZłyAdres      99-9999  Małe Miasto   \n",
       "\n",
       "            nr_tel  \n",
       "0      123-456-789  \n",
       "1        987654321  \n",
       "2  +48 111 222 333  \n",
       "3        444555666  \n",
       "4              123  "
      ],
      "text/html": [
       "<div>\n",
       "<style scoped>\n",
       "    .dataframe tbody tr th:only-of-type {\n",
       "        vertical-align: middle;\n",
       "    }\n",
       "\n",
       "    .dataframe tbody tr th {\n",
       "        vertical-align: top;\n",
       "    }\n",
       "\n",
       "    .dataframe thead th {\n",
       "        text-align: right;\n",
       "    }\n",
       "</style>\n",
       "<table border=\"1\" class=\"dataframe\">\n",
       "  <thead>\n",
       "    <tr style=\"text-align: right;\">\n",
       "      <th></th>\n",
       "      <th>imię</th>\n",
       "      <th>nazwisko</th>\n",
       "      <th>adres</th>\n",
       "      <th>kod_pocztowy</th>\n",
       "      <th>miasto</th>\n",
       "      <th>nr_tel</th>\n",
       "    </tr>\n",
       "  </thead>\n",
       "  <tbody>\n",
       "    <tr>\n",
       "      <th>0</th>\n",
       "      <td>Jan</td>\n",
       "      <td>Kowalski</td>\n",
       "      <td>ul. Długa 5/10</td>\n",
       "      <td>50-370</td>\n",
       "      <td>Wrocław</td>\n",
       "      <td>123-456-789</td>\n",
       "    </tr>\n",
       "    <tr>\n",
       "      <th>1</th>\n",
       "      <td>Anna</td>\n",
       "      <td>Nowak</td>\n",
       "      <td>al. Szybka 12a</td>\n",
       "      <td>1234</td>\n",
       "      <td>Warszawa</td>\n",
       "      <td>987654321</td>\n",
       "    </tr>\n",
       "    <tr>\n",
       "      <th>2</th>\n",
       "      <td>piotr</td>\n",
       "      <td>Zieliński</td>\n",
       "      <td>ul. Krótka 7</td>\n",
       "      <td>50-377</td>\n",
       "      <td>Wrocław</td>\n",
       "      <td>+48 111 222 333</td>\n",
       "    </tr>\n",
       "    <tr>\n",
       "      <th>3</th>\n",
       "      <td>Maria</td>\n",
       "      <td>Wiśniewska</td>\n",
       "      <td>Pl. Grunwaldzki 2</td>\n",
       "      <td>50-384</td>\n",
       "      <td>Wrocław</td>\n",
       "      <td>444555666</td>\n",
       "    </tr>\n",
       "    <tr>\n",
       "      <th>4</th>\n",
       "      <td>Zły</td>\n",
       "      <td>Rekord</td>\n",
       "      <td>ZłyAdres</td>\n",
       "      <td>99-9999</td>\n",
       "      <td>Małe Miasto</td>\n",
       "      <td>123</td>\n",
       "    </tr>\n",
       "  </tbody>\n",
       "</table>\n",
       "</div>"
      ]
     },
     "metadata": {},
     "output_type": "display_data",
     "jetTransient": {
      "display_id": null
     }
    }
   ],
   "execution_count": 23
  },
  {
   "metadata": {
    "ExecuteTime": {
     "end_time": "2025-10-30T13:50:03.896305Z",
     "start_time": "2025-10-30T13:50:03.889812Z"
    }
   },
   "cell_type": "code",
   "source": [
    "#Regular expressions\n",
    "regex = {\n",
    "    'imię': r'^[A-ZĄĆĘŁŃÓŚŹŻ][a-ząćęłńóśźż]{1,}$',\n",
    "    'nazwisko': r'^[A-ZĄĆĘŁŃÓŚŹŻ][a-ząćęłńóśźż]+(-[A-ZĄĆĘŁŃÓŚŹŻ][a-ząćęłńóśźż]+)?$',\n",
    "    'kod_pocztowy': r'^\\d{2}-\\d{3}$',\n",
    "    'miasto': r'^[A-ZĄĆĘŁŃÓŚŹŻ][a-ząćęłńóśźż\\s-]+$',\n",
    "    'nr_tel': r'^(\\+48\\s?)?(\\d{3}[\\s-]?){2}\\d{3}$'\n",
    "}\n"
   ],
   "id": "aa4d1e27f6240138",
   "outputs": [],
   "execution_count": 24
  },
  {
   "metadata": {
    "ExecuteTime": {
     "end_time": "2025-10-30T13:50:06.109444Z",
     "start_time": "2025-10-30T13:50:06.098295Z"
    }
   },
   "cell_type": "code",
   "source": [
    "#validating rows\n",
    "def validate_rows(row):\n",
    "    for column, pattern in regex.items():\n",
    "        if not re.fullmatch(pattern, str(row[column])):\n",
    "            return \"Nie\"\n",
    "    return \"Tak\""
   ],
   "id": "2eea669bd884132b",
   "outputs": [],
   "execution_count": 25
  },
  {
   "metadata": {
    "ExecuteTime": {
     "end_time": "2025-10-30T13:50:09.472009Z",
     "start_time": "2025-10-30T13:50:09.457131Z"
    }
   },
   "cell_type": "code",
   "source": [
    "#add \"valid\" column to the dataframe\n",
    "df['valid'] = df.apply(validate_rows,axis=1)"
   ],
   "id": "505b21e6392c2530",
   "outputs": [],
   "execution_count": 26
  },
  {
   "metadata": {
    "ExecuteTime": {
     "end_time": "2025-10-30T13:50:11.039831Z",
     "start_time": "2025-10-30T13:50:11.030031Z"
    }
   },
   "cell_type": "code",
   "source": [
    "#highlighting errors\n",
    "def highlight_errors(column):\n",
    "    pattern = regex.get(column.name)\n",
    "    if not pattern:\n",
    "        return [''] * len(column)\n",
    "    return[\n",
    "        'background-color: #FFC7CE; color: #9C0006' if not re.fullmatch(pattern, str(value)) else '' for value in column\n",
    "    ]\n"
   ],
   "id": "d8c679c8b89128ea",
   "outputs": [],
   "execution_count": 27
  },
  {
   "metadata": {
    "ExecuteTime": {
     "end_time": "2025-10-30T13:50:13.672864Z",
     "start_time": "2025-10-30T13:50:13.584939Z"
    }
   },
   "cell_type": "code",
   "source": [
    "#save output to another excel file\n",
    "output_file_name = \"output.xlsx\"\n",
    "styler = df.style.apply(highlight_errors)\n",
    "styler.to_excel(output_file_name, engine='openpyxl', index=False)"
   ],
   "id": "4eb77720aee933e1",
   "outputs": [],
   "execution_count": 28
  }
 ],
 "metadata": {
  "kernelspec": {
   "display_name": "Python 3",
   "language": "python",
   "name": "python3"
  },
  "language_info": {
   "codemirror_mode": {
    "name": "ipython",
    "version": 2
   },
   "file_extension": ".py",
   "mimetype": "text/x-python",
   "name": "python",
   "nbconvert_exporter": "python",
   "pygments_lexer": "ipython2",
   "version": "2.7.6"
  }
 },
 "nbformat": 4,
 "nbformat_minor": 5
}
